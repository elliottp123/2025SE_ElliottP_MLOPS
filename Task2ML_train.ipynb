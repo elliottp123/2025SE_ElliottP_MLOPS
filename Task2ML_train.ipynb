{
  "cells": [
    {
      "cell_type": "markdown",
      "metadata": {},
      "source": [
        "# Machine Learning Model Training\n",
        "\n",
        "This notebook implements the training phase for predicting student performance (G3 grade) using processed and engineered data.\n",
        "\n",
        "### Import Dependencies"
      ]
    },
    {
      "cell_type": "code",
      "execution_count": 35,
      "metadata": {},
      "outputs": [],
      "source": [
        "# Import required libraries\n",
        "import pandas as pd\n",
        "import numpy as np\n",
        "import os\n",
        "from sklearn.ensemble import RandomForestClassifier\n",
        "from sklearn.linear_model import LinearRegression\n",
        "import joblib"
      ]
    },
    {
      "cell_type": "markdown",
      "metadata": {},
      "source": [
        "### Prepare classification method for G1 and G2"
      ]
    },
    {
      "cell_type": "code",
      "execution_count": 36,
      "metadata": {},
      "outputs": [],
      "source": [
        "def classify_grades_edu(grade_series):\n",
        "    \"\"\"\n",
        "    Classify grades into meaningful educational categories using fixed width bins:\n",
        "    - 0-5: Poor (0)\n",
        "    - 6-10: Below Average (1)\n",
        "    - 11-14: Average (2)\n",
        "    - 15-17: Good (3)\n",
        "    - 18-20: Excellent (4)\n",
        "    \"\"\"\n",
        "    grades = grade_series.values\n",
        "    bins = [0, 5, 10, 14, 17, 20]\n",
        "    labels = [0, 1, 2, 3, 4]\n",
        "    \n",
        "    # Create categorical bins using educational scale\n",
        "    binned_grades = pd.cut(grades, bins=bins, labels=labels, include_lowest=True)\n",
        "    \n",
        "    # Convert to numeric for the model\n",
        "    return pd.to_numeric(binned_grades)"
      ]
    },
    {
      "cell_type": "markdown",
      "metadata": {},
      "source": [
        "### Load Processed Data"
      ]
    },
    {
      "cell_type": "code",
      "execution_count": 37,
      "metadata": {},
      "outputs": [
        {
          "name": "stdout",
          "output_type": "stream",
          "text": [
            "Enhanced data loaded successfully:\n",
            "Mathematics Female - X: (175, 46), y: (175, 3)\n",
            "Mathematics Male - X: (83, 46), y: (83, 3)\n",
            "Portuguese Female - X: (322, 46), y: (322, 3)\n",
            "Portuguese Male - X: (125, 46), y: (125, 3)\n"
          ]
        }
      ],
      "source": [
        "# Load processed enhanced training data\n",
        "base_path = 'processed_data/'\n",
        "\n",
        "# Load training data for mathematics\n",
        "X_train_mat_f = pd.read_csv(f'{base_path}X_Pmat_full_enhanced_train.csv')\n",
        "X_train_mat_m = pd.read_csv(f'{base_path}X_PmatM_enhanced_train.csv')\n",
        "y_train_mat_f = pd.read_csv(f'{base_path}y_Pmat_full_enhanced_train.csv')\n",
        "y_train_mat_m = pd.read_csv(f'{base_path}y_PmatM_enhanced_train.csv')\n",
        "\n",
        "# Load training data for portuguese\n",
        "X_train_por_f = pd.read_csv(f'{base_path}X_Ppor_full_enhanced_train.csv')\n",
        "X_train_por_m = pd.read_csv(f'{base_path}X_PporM_enhanced_train.csv')\n",
        "y_train_por_f = pd.read_csv(f'{base_path}y_Ppor_full_enhanced_train.csv')\n",
        "y_train_por_m = pd.read_csv(f'{base_path}y_PporM_enhanced_train.csv')\n",
        "\n",
        "# Also load test data for later evaluation\n",
        "X_test_mat_f = pd.read_csv(f'{base_path}X_Pmat_full_enhanced_test.csv')\n",
        "X_test_mat_m = pd.read_csv(f'{base_path}X_PmatM_enhanced_test.csv')\n",
        "y_test_mat_f = pd.read_csv(f'{base_path}y_Pmat_full_enhanced_test.csv')\n",
        "y_test_mat_m = pd.read_csv(f'{base_path}y_PmatM_enhanced_test.csv')\n",
        "\n",
        "X_test_por_f = pd.read_csv(f'{base_path}X_Ppor_full_enhanced_test.csv')\n",
        "X_test_por_m = pd.read_csv(f'{base_path}X_PporM_enhanced_test.csv')\n",
        "y_test_por_f = pd.read_csv(f'{base_path}y_Ppor_full_enhanced_test.csv')\n",
        "y_test_por_m = pd.read_csv(f'{base_path}y_PporM_enhanced_test.csv')\n",
        "\n",
        "print(\"Enhanced data loaded successfully:\")\n",
        "print(f\"Mathematics Female - X: {X_train_mat_f.shape}, y: {y_train_mat_f.shape}\")\n",
        "print(f\"Mathematics Male - X: {X_train_mat_m.shape}, y: {y_train_mat_m.shape}\")\n",
        "print(f\"Portuguese Female - X: {X_train_por_f.shape}, y: {y_train_por_f.shape}\")\n",
        "print(f\"Portuguese Male - X: {X_train_por_m.shape}, y: {y_train_por_m.shape}\")\n",
        "\n",
        "# Initialize models dictionary\n",
        "models = {\n",
        "    'math': {\n",
        "        'female': {},\n",
        "        'male': {}\n",
        "    },\n",
        "    'por': {\n",
        "        'female': {},\n",
        "        'male': {}\n",
        "    }\n",
        "}"
      ]
    },
    {
      "cell_type": "markdown",
      "metadata": {},
      "source": [
        "### Train random forest decision tree G1 and G2 models"
      ]
    },
    {
      "cell_type": "code",
      "execution_count": 38,
      "metadata": {},
      "outputs": [
        {
          "name": "stdout",
          "output_type": "stream",
          "text": [
            "\n",
            "Training G1 and G2 classification models...\n",
            "G1 and G2 classification models trained successfully.\n"
          ]
        }
      ],
      "source": [
        "# Train G1 and G2 models using RandomForestClassifier\n",
        "print(\"\\nTraining G1 and G2 classification models...\")\n",
        "\n",
        "# Mathematics Female G1 & G2\n",
        "rf_g1_mat_f = RandomForestClassifier(n_estimators=100, random_state=42)\n",
        "rf_g1_mat_f.fit(X_train_mat_f, classify_grades_edu(y_train_mat_f['G1']))\n",
        "models['math']['female']['G1'] = rf_g1_mat_f\n",
        "\n",
        "rf_g2_mat_f = RandomForestClassifier(n_estimators=100, random_state=42)\n",
        "rf_g2_mat_f.fit(X_train_mat_f, classify_grades_edu(y_train_mat_f['G2']))\n",
        "models['math']['female']['G2'] = rf_g2_mat_f\n",
        "\n",
        "# Mathematics Male G1 & G2\n",
        "rf_g1_mat_m = RandomForestClassifier(n_estimators=100, random_state=42)\n",
        "rf_g1_mat_m.fit(X_train_mat_m, classify_grades_edu(y_train_mat_m['G1']))\n",
        "models['math']['male']['G1'] = rf_g1_mat_m\n",
        "\n",
        "rf_g2_mat_m = RandomForestClassifier(n_estimators=100, random_state=42)\n",
        "rf_g2_mat_m.fit(X_train_mat_m, classify_grades_edu(y_train_mat_m['G2']))\n",
        "models['math']['male']['G2'] = rf_g2_mat_m\n",
        "\n",
        "# Portuguese Female G1 & G2\n",
        "rf_g1_por_f = RandomForestClassifier(n_estimators=100, random_state=42)\n",
        "rf_g1_por_f.fit(X_train_por_f, classify_grades_edu(y_train_por_f['G1']))\n",
        "models['por']['female']['G1'] = rf_g1_por_f\n",
        "\n",
        "rf_g2_por_f = RandomForestClassifier(n_estimators=100, random_state=42)\n",
        "rf_g2_por_f.fit(X_train_por_f, classify_grades_edu(y_train_por_f['G2']))\n",
        "models['por']['female']['G2'] = rf_g2_por_f\n",
        "\n",
        "# Portuguese Male G1 & G2\n",
        "rf_g1_por_m = RandomForestClassifier(n_estimators=100, random_state=42)\n",
        "rf_g1_por_m.fit(X_train_por_m, classify_grades_edu(y_train_por_m['G1']))\n",
        "models['por']['male']['G1'] = rf_g1_por_m\n",
        "\n",
        "rf_g2_por_m = RandomForestClassifier(n_estimators=100, random_state=42)\n",
        "rf_g2_por_m.fit(X_train_por_m, classify_grades_edu(y_train_por_m['G2']))\n",
        "models['por']['male']['G2'] = rf_g2_por_m\n",
        "\n",
        "print(\"G1 and G2 classification models trained successfully.\")"
      ]
    },
    {
      "cell_type": "markdown",
      "metadata": {},
      "source": [
        "### Train linear regression G3"
      ]
    },
    {
      "cell_type": "code",
      "execution_count": 39,
      "metadata": {},
      "outputs": [
        {
          "name": "stdout",
          "output_type": "stream",
          "text": [
            "G3 regression models trained successfully.\n"
          ]
        }
      ],
      "source": [
        "# G3 Regression Female\n",
        "X_g3_mat_f = pd.concat([X_train_mat_f, y_train_mat_f[['G1', 'G2']]], axis=1)\n",
        "lr_g3_mat_f = LinearRegression()\n",
        "lr_g3_mat_f.fit(X_g3_mat_f, y_train_mat_f['G3'])\n",
        "models['math']['female']['G3'] = lr_g3_mat_f\n",
        "\n",
        "# G3 Regression Male\n",
        "X_g3_mat_m = pd.concat([X_train_mat_m, y_train_mat_m[['G1', 'G2']]], axis=1)\n",
        "lr_g3_mat_m = LinearRegression()\n",
        "lr_g3_mat_m.fit(X_g3_mat_m, y_train_mat_m['G3'])\n",
        "models['math']['male']['G3'] = lr_g3_mat_m\n",
        "\n",
        "# Portuguese Female G3\n",
        "X_g3_por_f = pd.concat([X_train_por_f, y_train_por_f[['G1', 'G2']]], axis=1)\n",
        "lr_g3_por_f = LinearRegression()\n",
        "lr_g3_por_f.fit(X_g3_por_f, y_train_por_f['G3'])\n",
        "models['por']['female']['G3'] = lr_g3_por_f\n",
        "\n",
        "# Portuguese Male G3\n",
        "X_g3_por_m = pd.concat([X_train_por_m, y_train_por_m[['G1', 'G2']]], axis=1)\n",
        "lr_g3_por_m = LinearRegression()\n",
        "lr_g3_por_m.fit(X_g3_por_m, y_train_por_m['G3'])\n",
        "models['por']['male']['G3'] = lr_g3_por_m\n",
        "\n",
        "print(\"G3 regression models trained successfully.\")"
      ]
    },
    {
      "cell_type": "markdown",
      "metadata": {},
      "source": [
        "### Save models"
      ]
    },
    {
      "cell_type": "code",
      "execution_count": 40,
      "metadata": {},
      "outputs": [
        {
          "name": "stdout",
          "output_type": "stream",
          "text": [
            "All models saved successfully\n"
          ]
        }
      ],
      "source": [
        "os.makedirs('models', exist_ok=True)\n",
        "\n",
        "# Save mathematics female models\n",
        "joblib.dump(rf_g1_mat_f, 'models/math_female_G1_model.joblib')\n",
        "joblib.dump(rf_g2_mat_f, 'models/math_female_G2_model.joblib')\n",
        "joblib.dump(lr_g3_mat_f, 'models/math_female_G3_model.joblib')\n",
        "\n",
        "# Save mathematics male models\n",
        "joblib.dump(rf_g1_mat_m, 'models/math_male_G1_model.joblib')\n",
        "joblib.dump(rf_g2_mat_m, 'models/math_male_G2_model.joblib')\n",
        "joblib.dump(lr_g3_mat_m, 'models/math_male_G3_model.joblib')\n",
        "\n",
        "# Save portuguese female models\n",
        "joblib.dump(rf_g1_por_f, 'models/por_female_G1_model.joblib')\n",
        "joblib.dump(rf_g2_por_f, 'models/por_female_G2_model.joblib')\n",
        "joblib.dump(lr_g3_por_f, 'models/por_female_G3_model.joblib')\n",
        "\n",
        "# Save portuguese male models\n",
        "joblib.dump(rf_g1_por_m, 'models/por_male_G1_model.joblib')\n",
        "joblib.dump(rf_g2_por_m, 'models/por_male_G2_model.joblib')\n",
        "joblib.dump(lr_g3_por_m, 'models/por_male_G3_model.joblib')\n",
        "\n",
        "print(\"All models saved successfully\")"
      ]
    }
  ],
  "metadata": {
    "kernelspec": {
      "display_name": "Python 3",
      "language": "python",
      "name": "python3"
    },
    "language_info": {
      "codemirror_mode": {
        "name": "ipython",
        "version": 3
      },
      "file_extension": ".py",
      "mimetype": "text/x-python",
      "name": "python",
      "nbconvert_exporter": "python",
      "pygments_lexer": "ipython3",
      "version": "3.12.1"
    }
  },
  "nbformat": 4,
  "nbformat_minor": 2
}
