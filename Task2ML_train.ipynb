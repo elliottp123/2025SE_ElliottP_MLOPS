{
  "cells": [
    {
      "cell_type": "markdown",
      "metadata": {},
      "source": [
        "# Machine Learning Model Training\n",
        "\n",
        "This notebook implements the training phase for predicting student performance (G3 grade) using processed and engineered data.\n",
        "\n",
        "### Import Dependencies"
      ]
    },
    {
      "cell_type": "code",
      "execution_count": 47,
      "metadata": {},
      "outputs": [],
      "source": [
        "# Import required libraries\n",
        "import pandas as pd\n",
        "import numpy as np\n",
        "from sklearn.linear_model import LinearRegression\n",
        "from sklearn.tree import DecisionTreeClassifier\n",
        "from sklearn.preprocessing import LabelEncoder, KBinsDiscretizer\n",
        "import os\n",
        "import joblib"
      ]
    },
    {
      "cell_type": "markdown",
      "metadata": {},
      "source": [
        "### Load Processed Data"
      ]
    },
    {
      "cell_type": "code",
      "execution_count": 48,
      "metadata": {},
      "outputs": [
        {
          "name": "stdout",
          "output_type": "stream",
          "text": [
            "Data loaded successfully:\n",
            "Mathematics Female - X: (145, 33), y: (145, 3)\n",
            "Mathematics Male - X: (130, 33), y: (130, 3)\n"
          ]
        }
      ],
      "source": [
        "def load_training_data():\n",
        "    base_path = 'processed_data/'\n",
        "    \n",
        "    # Load training data\n",
        "    X_train_mat_f = pd.read_csv(f'{base_path}matfe_X_train.csv')\n",
        "    y_train_mat_f = pd.read_csv(f'{base_path}matfe_y_train.csv')\n",
        "    X_train_mat_m = pd.read_csv(f'{base_path}matm_X_train.csv')\n",
        "    y_train_mat_m = pd.read_csv(f'{base_path}matm_y_train.csv')\n",
        "    \n",
        "    print(\"Data loaded successfully:\")\n",
        "    print(f\"Mathematics Female - X: {X_train_mat_f.shape}, y: {y_train_mat_f.shape}\")\n",
        "    print(f\"Mathematics Male - X: {X_train_mat_m.shape}, y: {y_train_mat_m.shape}\")\n",
        "    \n",
        "    return X_train_mat_f, y_train_mat_f, X_train_mat_m, y_train_mat_m\n",
        "\n",
        "# Load training data\n",
        "X_train_mat_f, y_train_mat_f, X_train_mat_m, y_train_mat_m = load_training_data()"
      ]
    },
    {
      "cell_type": "markdown",
      "metadata": {},
      "source": [
        "### Model specific utility"
      ]
    },
    {
      "cell_type": "code",
      "execution_count": 49,
      "metadata": {},
      "outputs": [],
      "source": [
        "def classify_grades(grade_series):\n",
        "    \"\"\"Classify grades into 5 distinct classes\"\"\"\n",
        "    grades = grade_series.values.reshape(-1, 1)\n",
        "    kbd = KBinsDiscretizer(n_bins=5, encode='ordinal', strategy='quantile')\n",
        "    return kbd.fit_transform(grades).ravel()\n",
        "\n",
        "def split_features_target(df, target):\n",
        "    \"\"\"Split dataframe into features and target\"\"\"\n",
        "    X = df.drop(columns=[target])\n",
        "    y = df[target]\n",
        "    return X, y"
      ]
    },
    {
      "cell_type": "markdown",
      "metadata": {},
      "source": [
        "### Prepare data for G1 and G2 models"
      ]
    },
    {
      "cell_type": "code",
      "execution_count": 50,
      "metadata": {},
      "outputs": [
        {
          "name": "stdout",
          "output_type": "stream",
          "text": [
            "\n",
            "Grade Classification Results:\n",
            "\n",
            "Female Students:\n",
            "G1 classes: [0. 1. 2. 3. 4.]\n",
            "G2 classes: [0. 1. 2. 3. 4.]\n",
            "\n",
            "Male Students:\n",
            "G1 classes: [0. 1. 2. 3. 4.]\n",
            "G2 classes: [0. 1. 2. 3. 4.]\n"
          ]
        }
      ],
      "source": [
        "# Classify G1 grades\n",
        "y_train_mat_f_g1 = classify_grades(y_train_mat_f['G1'])\n",
        "y_train_mat_m_g1 = classify_grades(y_train_mat_m['G1'])\n",
        "\n",
        "# Classify G2 grades\n",
        "y_train_mat_f_g2 = classify_grades(y_train_mat_f['G2'])\n",
        "y_train_mat_m_g2 = classify_grades(y_train_mat_m['G2'])\n",
        "\n",
        "print(\"\\nGrade Classification Results:\")\n",
        "for gender, g1, g2 in [('Female', y_train_mat_f_g1, y_train_mat_f_g2),\n",
        "                       ('Male', y_train_mat_m_g1, y_train_mat_m_g2)]:\n",
        "    print(f\"\\n{gender} Students:\")\n",
        "    print(f\"G1 classes: {np.unique(g1)}\")\n",
        "    print(f\"G2 classes: {np.unique(g2)}\")"
      ]
    },
    {
      "cell_type": "markdown",
      "metadata": {},
      "source": [
        "### Preparing data for G3"
      ]
    },
    {
      "cell_type": "code",
      "execution_count": 51,
      "metadata": {},
      "outputs": [
        {
          "name": "stdout",
          "output_type": "stream",
          "text": [
            "Verifying G3 target data:\n",
            "Female G3 values: 145 samples\n",
            "Male G3 values: 130 samples\n",
            "\n",
            "G3 Training Data Prepared:\n",
            "Female features shape: (145, 33)\n",
            "Male features shape: (130, 33)\n"
          ]
        }
      ],
      "source": [
        "# Verify G3 data is available\n",
        "print(\"Verifying G3 target data:\")\n",
        "print(f\"Female G3 values: {len(y_train_mat_f['G3'])} samples\")\n",
        "print(f\"Male G3 values: {len(y_train_mat_m['G3'])} samples\")\n",
        "\n",
        "# Prepare features for G3 prediction\n",
        "X_train_mat_f_g3 = X_train_mat_f.drop(['G1', 'G2'], axis=1, errors='ignore')\n",
        "X_train_mat_m_g3 = X_train_mat_m.drop(['G1', 'G2'], axis=1, errors='ignore')\n",
        "\n",
        "# Get G3 target values\n",
        "y_train_mat_f_g3 = y_train_mat_f['G3']\n",
        "y_train_mat_m_g3 = y_train_mat_m['G3']\n",
        "\n",
        "print(\"\\nG3 Training Data Prepared:\")\n",
        "print(f\"Female features shape: {X_train_mat_f_g3.shape}\")\n",
        "print(f\"Male features shape: {X_train_mat_m_g3.shape}\")"
      ]
    },
    {
      "cell_type": "markdown",
      "metadata": {},
      "source": [
        "### Train decision tree models"
      ]
    },
    {
      "cell_type": "code",
      "execution_count": 52,
      "metadata": {},
      "outputs": [
        {
          "name": "stdout",
          "output_type": "stream",
          "text": [
            "\n",
            "All models trained successfully\n"
          ]
        }
      ],
      "source": [
        "# Train G1 models\n",
        "dt_g1_female = DecisionTreeClassifier(random_state=42)\n",
        "dt_g1_female.fit(X_train_mat_f, y_train_mat_f_g1)\n",
        "\n",
        "dt_g1_male = DecisionTreeClassifier(random_state=42)\n",
        "dt_g1_male.fit(X_train_mat_m, y_train_mat_m_g1)\n",
        "\n",
        "# Train G2 models\n",
        "dt_g2_female = DecisionTreeClassifier(random_state=42)\n",
        "dt_g2_female.fit(X_train_mat_f, y_train_mat_f_g2)\n",
        "\n",
        "dt_g2_male = DecisionTreeClassifier(random_state=42)\n",
        "dt_g2_male.fit(X_train_mat_m, y_train_mat_m_g2)\n",
        "\n",
        "# Train G3 models\n",
        "lr_g3_female = LinearRegression()\n",
        "lr_g3_female.fit(X_train_mat_f_g3, y_train_mat_f_g3)\n",
        "\n",
        "lr_g3_male = LinearRegression()\n",
        "lr_g3_male.fit(X_train_mat_m_g3, y_train_mat_m_g3)\n",
        "\n",
        "print(\"\\nAll models trained successfully\")"
      ]
    },
    {
      "cell_type": "markdown",
      "metadata": {},
      "source": [
        "### Train linear regression G3"
      ]
    },
    {
      "cell_type": "code",
      "execution_count": 53,
      "metadata": {},
      "outputs": [
        {
          "name": "stdout",
          "output_type": "stream",
          "text": [
            "Training Linear Regression models for G3:\n",
            "Female G3 model trained with 33 features\n",
            "Male G3 model trained with 33 features\n",
            "\n",
            "Model Coefficients:\n",
            "Female model: 33 coefficients\n",
            "Male model: 33 coefficients\n"
          ]
        }
      ],
      "source": [
        "# Train G3 models\n",
        "print(\"Training Linear Regression models for G3:\")\n",
        "\n",
        "# Train female model\n",
        "lr_g3_female = LinearRegression()\n",
        "lr_g3_female.fit(X_train_mat_f_g3, y_train_mat_f_g3)\n",
        "print(f\"Female G3 model trained with {X_train_mat_f_g3.shape[1]} features\")\n",
        "\n",
        "# Train male model\n",
        "lr_g3_male = LinearRegression()\n",
        "lr_g3_male.fit(X_train_mat_m_g3, y_train_mat_m_g3)\n",
        "print(f\"Male G3 model trained with {X_train_mat_m_g3.shape[1]} features\")\n",
        "\n",
        "# Print model coefficients for verification\n",
        "print(\"\\nModel Coefficients:\")\n",
        "print(f\"Female model: {len(lr_g3_female.coef_)} coefficients\")\n",
        "print(f\"Male model: {len(lr_g3_male.coef_)} coefficients\")"
      ]
    },
    {
      "cell_type": "markdown",
      "metadata": {},
      "source": [
        "### Save models"
      ]
    },
    {
      "cell_type": "code",
      "execution_count": 54,
      "metadata": {},
      "outputs": [
        {
          "name": "stdout",
          "output_type": "stream",
          "text": [
            "Models saved successfully in 'models' directory\n"
          ]
        }
      ],
      "source": [
        "# Create models directory\n",
        "os.makedirs('models', exist_ok=True)\n",
        "\n",
        "# Save Decision Tree models\n",
        "joblib.dump(dt_g1_female, 'models/dt_g1_female.joblib')\n",
        "joblib.dump(dt_g1_male, 'models/dt_g1_male.joblib')\n",
        "joblib.dump(dt_g2_female, 'models/dt_g2_female.joblib')\n",
        "joblib.dump(dt_g2_male, 'models/dt_g2_male.joblib')\n",
        "\n",
        "# Save Linear Regression models\n",
        "joblib.dump(lr_g3_female, 'models/lr_g3_female.joblib')\n",
        "joblib.dump(lr_g3_male, 'models/lr_g3_male.joblib')\n",
        "\n",
        "print(\"Models saved successfully in 'models' directory\")"
      ]
    }
  ],
  "metadata": {
    "kernelspec": {
      "display_name": "Python 3",
      "language": "python",
      "name": "python3"
    },
    "language_info": {
      "codemirror_mode": {
        "name": "ipython",
        "version": 3
      },
      "file_extension": ".py",
      "mimetype": "text/x-python",
      "name": "python",
      "nbconvert_exporter": "python",
      "pygments_lexer": "ipython3",
      "version": "3.12.1"
    }
  },
  "nbformat": 4,
  "nbformat_minor": 2
}
