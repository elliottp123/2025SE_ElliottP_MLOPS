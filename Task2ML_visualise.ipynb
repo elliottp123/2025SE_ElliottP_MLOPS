{
  "cells": [
    {
      "cell_type": "markdown",
      "metadata": {},
      "source": [
        "# Model Visualization\n",
        "\n",
        "This notebook visualizes the results of the model predictions."
      ]
    },
    {
      "cell_type": "code",
      "execution_count": 1,
      "metadata": {},
      "outputs": [],
      "source": [
        "# Import required libraries\n",
        "import pandas as pd\n",
        "import numpy as np\n",
        "import matplotlib.pyplot as plt\n",
        "import seaborn as sns\n",
        "import joblib\n"
      ]
    },
    {
      "cell_type": "markdown",
      "metadata": {},
      "source": [
        "### Load Processed Test Data"
      ]
    },
    {
      "cell_type": "code",
      "execution_count": 2,
      "metadata": {},
      "outputs": [],
      "source": [
        "# Load the processed test data\n",
        "X_test_mat_f = pd.read_csv('processed_data/X_MatFE_enhanced.csv')\n",
        "X_test_mat_m = pd.read_csv('processed_data/X_MatM_enhanced.csv')\n",
        "X_test_por_f = pd.read_csv('processed_data/X_PorFE_enhanced.csv')\n",
        "X_test_por_m = pd.read_csv('processed_data/X_PorM_enhanced.csv')\n",
        "\n",
        "print(\"Data loaded successfully:\")\n",
        "print(f\"X_test_mat_f shape: {X_test_mat_f.shape}\")\n",
        "print(f\"X_test_mat_m shape: {X_test_mat_m.shape}\")\n",
        "print(f\"X_test_por_f shape: {X_test_por_f.shape}\")\n",
        "print(f\"X_test_por_m shape: {X_test_por_m.shape}\")"
      ]
    },
    {
      "cell_type": "markdown",
      "metadata": {},
      "source": [
        "### Load Trained Models"
      ]
    },
    {
      "cell_type": "code",
      "execution_count": 3,
      "metadata": {},
      "outputs": [],
      "source": [
        "# Load the trained models\n",
        "dt_g1_female = joblib.load('models/dt_g1_female.joblib')\n",
        "dt_g1_male = joblib.load('models/dt_g1_male.joblib')\n",
        "dt_g2_female = joblib.load('models/dt_g2_female.joblib')\n",
        "dt_g2_male = joblib.load('models/dt_g2_male.joblib')\n",
        "lr_g3_female = joblib.load('models/lr_g3_female.joblib')\n",
        "lr_g3_male = joblib.load('models/lr_g3_male.joblib')\n",
        "\n",
        "print(\"Models loaded successfully.\")"
      ]
    },
    {
      "cell_type": "markdown",
      "metadata": {},
      "source": [
        "### Make Predictions"
      ]
    },
    {
      "cell_type": "code",
      "execution_count": 4,
      "metadata": {},
      "outputs": [],
      "source": [
        "# Make predictions for G1 and G2\n",
        "X_test_mat_f['G1_pred'] = dt_g1_female.predict(X_test_mat_f.drop(columns=['G1', 'G2', 'G3']))\n",
        "X_test_mat_m['G1_pred'] = dt_g1_male.predict(X_test_mat_m.drop(columns=['G1', 'G2', 'G3']))\n",
        "X_test_mat_f['G2_pred'] = dt_g2_female.predict(X_test_mat_f.drop(columns=['G1', 'G2', 'G3']))\n",
        "X_test_mat_m['G2_pred'] = dt_g2_male.predict(X_test_mat_m.drop(columns=['G1', 'G2', 'G3']))\n",
        "\n",
        "# Prepare data for G3 prediction\n",
        "X_test_mat_f_g3 = X_test_mat_f.drop(columns=['G3'])\n",
        "X_test_mat_m_g3 = X_test_mat_m.drop(columns=['G3'])\n",
        "y_test_mat_f_g3 = X_test_mat_f['G3']\n",
        "y_test_mat_m_g3 = X_test_mat_m['G3']\n",
        "\n",
        "# Make predictions for G3\n",
        "y_pred_mat_f_g3 = lr_g3_female.predict(X_test_mat_f_g3)\n",
        "y_pred_mat_m_g3 = lr_g3_male.predict(X_test_mat_m_g3)"
      ]
    },
    {
      "cell_type": "markdown",
      "metadata": {},
      "source": [
        "### Visualize Predictions"
      ]
    },
    {
      "cell_type": "code",
      "execution_count": 5,
      "metadata": {},
      "outputs": [],
      "source": [
        "# Visualize G1 and G2 predictions\n",
        "plt.figure(figsize=(12, 6))\n",
        "plt.subplot(2, 2, 1)\n",
        "sns.histplot(X_test_mat_f['G1'], color='blue', label='Actual G1', kde=True)\n",
        "sns.histplot(X_test_mat_f['G1_pred'], color='red', label='Predicted G1', kde=True)\n",
        "plt.title('G1 Predictions for Female Students')\n",
        "plt.legend()\n",
        "\n",
        "plt.subplot(2, 2, 2)\n",
        "sns.histplot(X_test_mat_m['G1'], color='blue', label='Actual G1', kde=True)\n",
        "sns.histplot(X_test_mat_m['G1_pred'], color='red', label='Predicted G1', kde=True)\n",
        "plt.title('G1 Predictions for Male Students')\n",
        "plt.legend()\n",
        "\n",
        "plt.subplot(2, 2, 3)\n",
        "sns.histplot(X_test_mat_f['G2'], color='blue', label='Actual G2', kde=True)\n",
        "sns.histplot(X_test_mat_f['G2_pred'], color='red', label='Predicted G2', kde=True)\n",
        "plt.title('G2 Predictions for Female Students')\n",
        "plt.legend()\n",
        "\n",
        "plt.subplot(2, 2, 4)\n",
        "sns.histplot(X_test_mat_m['G2'], color='blue', label='Actual G2', kde=True)\n",
        "sns.histplot(X_test_mat_m['G2_pred'], color='red', label='Predicted G2', kde=True)\n",
        "plt.title('G2 Predictions for Male Students')\n",
        "plt.legend()\n",
        "\n",
        "plt.tight_layout()\n",
        "plt.show()"
      ]
    },
    {
      "cell_type": "code",
      "execution_count": 6,
      "metadata": {},
      "outputs": [],
      "source": [
        "# Visualize G3 predictions\n",
        "plt.figure(figsize=(12, 6))\n",
        "plt.subplot(1, 2, 1)\n",
        "sns.scatterplot(x=y_test_mat_f_g3, y=y_pred_mat_f_g3, color='blue')\n",
        "plt.plot([y_test_mat_f_g3.min(), y_test_mat_f_g3.max()], [y_test_mat_f_g3.min(), y_test_mat_f_g3.max()], 'k--', lw=2)\n",
        "plt.title('G3 Predictions for Female Students')\n",
        "plt.xlabel('Actual G3')\n",
        "plt.ylabel('Predicted G3')\n",
        "\n",
        "plt.subplot(1, 2, 2)\n",
        "sns.scatterplot(x=y_test_mat_m_g3, y=y_pred_mat_m_g3, color='red')\n",
        "plt.plot([y_test_mat_m_g3.min(), y_test_mat_m_g3.max()], [y_test_mat_m_g3.min(), y_test_mat_m_g3.max()], 'k--', lw=2)\n",
        "plt.title('G3 Predictions for Male Students')\n",
        "plt.xlabel('Actual G3')\n",
        "plt.ylabel('Predicted G3')\n",
        "\n",
        "plt.tight_layout()\n",
        "plt.show()"
      ]
    }
  ],
  "metadata": {
    "kernelspec": {
      "display_name": "Python 3",
      "language": "python",
      "name": "python3"
    },
    "language_info": {
      "codemirror_mode": {
        "name": "ipython",
        "version": 3
      },
      "file_extension": ".py",
      "mimetype": "text/x-python",
      "name": "python",
      "nbconvert_exporter": "python",
      "pygments_lexer": "ipython3",
      "version": "3.12.1"
    }
  },
  "nbformat": 4,
  "nbformat_minor": 2
}
