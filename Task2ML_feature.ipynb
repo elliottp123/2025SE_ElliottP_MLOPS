{
  "cells": [
    {
      "cell_type": "markdown",
      "metadata": {},
      "source": [
        "## Feature Engineering\n",
        "\n",
        "### Engineered Features and Justifications\n",
        "\n",
        "1. **Gvg** - G1 and G2 average grade (integer of (G1 + G2) / 2)\n",
        "   - Justification: Averaging the first and second period grades provides a more stable measure of a student's performance over time, reducing the impact of any single period's anomalies.\n",
        "\n",
        "2. **Avgalc** - Average Dalc and Walc (integer of (Dalc + Walc) / 2)\n",
        "   - Justification: Combining workday and weekend alcohol consumption into a single average value gives a more comprehensive view of a student's overall alcohol consumption habits.\n",
        "\n",
        "3. **Bum** - A weighted sum of failures, absences, Dalc, Walc, inverted studytime, and freetime to indicate a student's tendency to fail, skip school, drink alcohol, not study, and have free time.\n",
        "   - Justification for weights:\n",
        "     - Failures are given a higher weight (2) because past class failures are a strong indicator of academic struggles.\n",
        "     - Absences are weighted at 1.5 as frequent absences can significantly impact academic performance.\n",
        "     - Both Dalc and Walc are weighted at 1 as alcohol consumption can affect both health and academic performance.\n",
        "     - Studytime is inverted (5 - studytime) and weighted at 1 because less study time can lead to poorer academic outcomes.\n",
        "     - Freetime is weighted at 1 as more free time might indicate less focus on academics."
      ]
    },
    {
      "cell_type": "code",
      "execution_count": 1,
      "metadata": {},
      "outputs": [],
      "source": [
        "# Import frameworks\n",
        "import pandas as pd\n",
        "import os"
      ]
    },
    {
      "cell_type": "markdown",
      "metadata": {},
      "source": [
        "#### Load the datasets"
      ]
    },
    {
      "cell_type": "code",
      "execution_count": 2,
      "metadata": {},
      "outputs": [],
      "source": [
        "# Load CSV files\n",
        "mat_df = pd.read_csv('data/mat.csv')\n",
        "por_df = pd.read_csv('data/por.csv')\n",
        "csv_df = pd.read_csv('data/dataset.csv')"
      ]
    },
    {
      "cell_type": "markdown",
      "metadata": {},
      "source": [
        "#### Dealing with null values"
      ]
    },
    {
      "cell_type": "code",
      "execution_count": 3,
      "metadata": {},
      "outputs": [],
      "source": [
        "# Remove Null values\n",
        "def remove_nulls(df):\n",
        "    df = df.dropna()\n",
        "    return df\n",
        "\n",
        "mat_df = remove_nulls(mat_df)\n",
        "por_df = remove_nulls(por_df)\n",
        "csv_df = remove_nulls(csv_df)"
      ]
    },
    {
      "cell_type": "markdown",
      "metadata": {},
      "source": [
        "#### Remove Duplicates"
      ]
    },
    {
      "cell_type": "code",
      "execution_count": 4,
      "metadata": {},
      "outputs": [],
      "source": [
        "# Remove duplicates\n",
        "def remove_duplicates(df):\n",
        "    df = df.drop_duplicates()\n",
        "    return df\n",
        "\n",
        "mat_df = remove_duplicates(mat_df)\n",
        "por_df = remove_duplicates(por_df)\n",
        "csv_df = remove_duplicates(csv_df)"
      ]
    },
    {
      "cell_type": "markdown",
      "metadata": {},
      "source": [
        "#### Encoding categorical variables"
      ]
    },
    {
      "cell_type": "code",
      "execution_count": 5,
      "metadata": {},
      "outputs": [],
      "source": [
        "# Encode categorical variables\n",
        "def encode_categorical(df, column):\n",
        "    df[column] = df[column].apply(lambda x: 1 if x == 'yes' else 0)\n",
        "    return df\n",
        "\n",
        "mat_df = encode_categorical(mat_df, 'schoolsup')\n",
        "por_df = encode_categorical(por_df, 'schoolsup')\n",
        "csv_df = encode_categorical(csv_df, 'schoolsup')"
      ]
    },
    {
      "cell_type": "markdown",
      "metadata": {},
      "source": [
        "#### Calculating new features from existing features"
      ]
    },
    {
      "cell_type": "code",
      "execution_count": 6,
      "metadata": {},
      "outputs": [],
      "source": [
        "# Calculate Gvg feature\n",
        "def calculate_gvg(row):\n",
        "    return (row['G1'] + row['G2']) / 2\n",
        "\n",
        "mat_df['Gvg'] = mat_df.apply(calculate_gvg, axis=1)\n",
        "por_df['Gvg'] = por_df.apply(calculate_gvg, axis=1)\n",
        "csv_df['Gvg'] = csv_df.apply(calculate_gvg, axis=1)"
      ]
    },
    {
      "cell_type": "code",
      "execution_count": 7,
      "metadata": {},
      "outputs": [],
      "source": [
        "# Calculate Avgalc feature\n",
        "def calculate_avgalc(row):\n",
        "    return (row['Dalc'] + row['Walc']) / 2\n",
        "\n",
        "mat_df['Avgalc'] = mat_df.apply(calculate_avgalc, axis=1)\n",
        "por_df['Avgalc'] = por_df.apply(calculate_avgalc, axis=1)\n",
        "csv_df['Avgalc'] = csv_df.apply(calculate_avgalc, axis=1)"
      ]
    },
    {
      "cell_type": "code",
      "execution_count": 8,
      "metadata": {},
      "outputs": [],
      "source": [
        "# Calculate Bum feature\n",
        "def calculate_bum(row):\n",
        "    return (2 * row['failures'] + 1.5 * row['absences'] + row['Dalc'] + row['Walc'] + (5 - row['studytime']) + row['freetime'])\n",
        "\n",
        "mat_df['Bum'] = mat_df.apply(calculate_bum, axis=1)\n",
        "por_df['Bum'] = por_df.apply(calculate_bum, axis=1)\n",
        "csv_df['Bum'] = csv_df.apply(calculate_bum, axis=1)"
      ]
    },
    {
      "cell_type": "markdown",
      "metadata": {},
      "source": [
        "#### Save the wrangled and engineered data to CSV"
      ]
    },
    {
      "cell_type": "code",
      "execution_count": 9,
      "metadata": {},
      "outputs": [],
      "source": [
        "# Create processed_data directory if it doesn't exist\n",
        "os.makedirs('../processed_data', exist_ok=True)\n",
        "\n",
        "# Save processed data\n",
        "mat_df.to_csv('../processed_data/Pmat.csv', index=False)\n",
        "por_df.to_csv('../processed_data/Ppor.csv', index=False)\n",
        "csv_df.to_csv('../processed_data/Pdataset.csv', index=False)"
      ]
    }
  ],
  "metadata": {
    "kernelspec": {
      "display_name": "Python 3",
      "language": "python",
      "name": "python3"
    },
    "language_info": {
      "codemirror_mode": {
        "name": "ipython",
        "version": 3
      },
      "file_extension": ".py",
      "mimetype": "text/x-python",
      "name": "python",
      "nbconvert_exporter": "python",
      "pygments_lexer": "ipython3",
      "version": "3.12.1"
    }
  },
  "nbformat": 4,
  "nbformat_minor": 2
}
