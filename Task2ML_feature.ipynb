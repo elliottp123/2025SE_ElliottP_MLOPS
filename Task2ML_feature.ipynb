{
  "cells": [
    {
      "cell_type": "markdown",
      "metadata": {},
      "source": [
        "## Feature Engineering\n",
        "\n",
        "### Engineered Features and Justifications\n",
        "\n",
        "1. **Gvg** - G1 and G2 average grade (integer of (G1 + G2) / 2)\n",
        "   - Justification: Averaging the first and second period grades provides a more stable measure of a student's performance over time, reducing the impact of any single period's anomalies.\n",
        "\n",
        "2. **Avgalc** - Average Dalc and Walc (integer of (Dalc + Walc) / 2)\n",
        "   - Justification: Combining workday and weekend alcohol consumption into a single average value gives a more comprehensive view of a student's overall alcohol consumption habits.\n",
        "\n",
        "3. **Bum** - A weighted sum of failures, absences, Dalc, Walc, inverted studytime, and freetime to indicate a student's tendency to fail, skip school, drink alcohol, not study, and have free time.\n",
        "   - Justification for weights:\n",
        "     - Failures are given a higher weight (2) because past class failures are a strong indicator of academic struggles.\n",
        "     - Absences are weighted at 1.5 as frequent absences can significantly impact academic performance.\n",
        "     - Both Dalc and Walc are weighted at 1 as alcohol consumption can affect both health and academic performance.\n",
        "     - Studytime is inverted (5 - studytime) and weighted at 1 because less study time can lead to poorer academic outcomes.\n",
        "     - Freetime is weighted at 1 as more free time might indicate less focus on academics."
      ]
    },
    {
      "cell_type": "markdown",
      "metadata": {},
      "source": [
        "## Import dependancies"
      ]
    },
    {
      "cell_type": "code",
      "execution_count": 1,
      "metadata": {},
      "outputs": [],
      "source": [
        "import pandas as pd\n",
        "import numpy as np\n",
        "import os"
      ]
    },
    {
      "cell_type": "markdown",
      "metadata": {},
      "source": [
        "#### Load the datasets"
      ]
    },
    {
      "cell_type": "code",
      "execution_count": 2,
      "metadata": {},
      "outputs": [
        {
          "name": "stdout",
          "output_type": "stream",
          "text": [
            "Datasets loaded successfully:\n",
            "Mathematics: 394 rows\n",
            "Portuguese: 648 rows\n",
            "Combined: 648 rows\n"
          ]
        }
      ],
      "source": [
        "# Load processed datasets\n",
        "mat_df = pd.read_csv('processed_data/Pmat.csv')\n",
        "por_df = pd.read_csv('processed_data/Ppor.csv')\n",
        "csv_df = pd.read_csv('processed_data/Pdataset.csv')\n",
        "\n",
        "print(\"Datasets loaded successfully:\")\n",
        "print(f\"Mathematics: {len(mat_df)} rows\")\n",
        "print(f\"Portuguese: {len(por_df)} rows\")\n",
        "print(f\"Combined: {len(csv_df)} rows\")"
      ]
    },
    {
      "cell_type": "markdown",
      "metadata": {},
      "source": [
        "#### Encoding categorical variables"
      ]
    },
    {
      "cell_type": "markdown",
      "metadata": {},
      "source": [
        "\n",
        "\n",
        "1. Label Encoding is used because:\n",
        "    Our categorical variables are nominal (no inherent order)\n",
        "    We want to preserve unique values for each category\n",
        "    The machine learning algorithms we'll use can handle numeric inputs better\n",
        "\n",
        "2. Naming Convention:\n",
        "    Added '_encoded' suffix to encoded columns for clarity\n",
        "    Original columns are dropped to avoid redundancy\n",
        "    New files saved with 'FE' suffix to indicate Feature Engineered and Encoded\n",
        "\n",
        "3. Verification:\n",
        "    Print statements confirm successful encoding\n",
        "    Column counts ensure no data was lost in the process\n",
        "    New datasets maintain all information in numeric format\n"
      ]
    },
    {
      "cell_type": "code",
      "execution_count": 3,
      "metadata": {},
      "outputs": [
        {
          "name": "stdout",
          "output_type": "stream",
          "text": [
            "\n",
            "Encoding Verification:\n",
            "\n",
            "Mathematics Dataset:\n",
            "Original categorical columns: 17\n",
            "New encoded columns: 17\n",
            "Total columns: 33\n",
            "\n",
            "Portuguese Dataset:\n",
            "Original categorical columns: 17\n",
            "New encoded columns: 17\n",
            "Total columns: 33\n",
            "\n",
            "Combined Dataset:\n",
            "Original categorical columns: 17\n",
            "New encoded columns: 17\n",
            "Total columns: 31\n"
          ]
        }
      ],
      "source": [
        "# Define categorical columns\n",
        "categorical_columns = ['school', 'sex', 'address', 'famsize', 'Pstatus', \n",
        "                      'Mjob', 'Fjob', 'reason', 'guardian', 'schoolsup', \n",
        "                      'famsup', 'paid', 'activities', 'nursery', 'higher', \n",
        "                      'internet', 'romantic']\n",
        "\n",
        "# Import encoder\n",
        "from sklearn.preprocessing import LabelEncoder\n",
        "\n",
        "# Initialize encoder\n",
        "le = LabelEncoder()\n",
        "\n",
        "# Apply encoding to all datasets\n",
        "for df in [mat_df, por_df, csv_df]:\n",
        "    for col in categorical_columns:\n",
        "        df[f'{col}_encoded'] = le.fit_transform(df[col])\n",
        "        \n",
        "    # Drop original categorical columns\n",
        "    df.drop(columns=categorical_columns, inplace=True)\n",
        "\n",
        "# Save encoded datasets with 'FE' suffix (Features Encoded)\n",
        "mat_df.to_csv('processed_data/PmatFE.csv', index=False)\n",
        "por_df.to_csv('processed_data/PporFE.csv', index=False)\n",
        "csv_df.to_csv('processed_data/PdatasetFE.csv', index=False)\n",
        "\n",
        "# Print encoding verification\n",
        "print(\"\\nEncoding Verification:\")\n",
        "for name, df in [(\"Mathematics\", mat_df), (\"Portuguese\", por_df), (\"Combined\", csv_df)]:\n",
        "    print(f\"\\n{name} Dataset:\")\n",
        "    print(f\"Original categorical columns: {len(categorical_columns)}\")\n",
        "    print(f\"New encoded columns: {len([col for col in df.columns if '_encoded' in col])}\")\n",
        "    print(f\"Total columns: {len(df.columns)}\")"
      ]
    },
    {
      "cell_type": "markdown",
      "metadata": {},
      "source": [
        "#### Calculating new features from existing features"
      ]
    },
    {
      "cell_type": "code",
      "execution_count": 4,
      "metadata": {},
      "outputs": [],
      "source": [
        "def calculate_gvg(row):\n",
        "    \"\"\"Calculate average grade from G1 and G2\"\"\"\n",
        "    return int((row['G1'] + row['G2']) / 2)\n",
        "\n",
        "def calculate_avgalc(row):\n",
        "    \"\"\"Calculate average alcohol consumption\"\"\"\n",
        "    return int((row['Dalc'] + row['Walc']) / 2)\n",
        "\n",
        "def calculate_bum(row):\n",
        "    \"\"\"Calculate academic risk factor\"\"\"\n",
        "    return (2.0 * row['failures'] + \n",
        "            1.5 * row['absences'] + \n",
        "            1.0 * row['Dalc'] + \n",
        "            1.0 * row['Walc'] + \n",
        "            1.0 * (5 - row['studytime']) + \n",
        "            1.0 * row['freetime'])"
      ]
    },
    {
      "cell_type": "markdown",
      "metadata": {},
      "source": [
        "### Apply features"
      ]
    },
    {
      "cell_type": "code",
      "execution_count": null,
      "metadata": {},
      "outputs": [],
      "source": [
        "# Load gender-split datasets\n",
        "split_files = ['X_PmatM', 'X_PmatFE', 'X_PporM', 'X_PporFE']\n",
        "datasets = {}\n",
        "\n",
        "for split in split_files:\n",
        "    datasets[split] = pd.read_csv(f'../processed_data/{split}.csv')\n",
        "\n",
        "# Apply features to each split\n",
        "for name, df in datasets.items():\n",
        "    # Calculate features\n",
        "    df['Avgalc'] = df.apply(calculate_avgalc, axis=1)\n",
        "    df['Bum'] = df.apply(calculate_bum, axis=1)\n",
        "    df['Gvg'] = df.apply(calculate_gvg, axis=1)\n",
        "    \n",
        "    # Save feature-engineered datasets with lowercase 'f' suffix\n",
        "    df.to_csv(f'../processed_data/{name}f.csv', index=False)\n",
        "\n",
        "print(\"Features added to gender-split datasets successfully\")\n",
        "print(\"Created files: X_PmatMf.csv, X_PmatFEf.csv, X_PporMf.csv, X_PporFEf.csv\")"
      ]
    },
    {
      "cell_type": "markdown",
      "metadata": {},
      "source": [
        "### Analyse features"
      ]
    },
    {
      "cell_type": "code",
      "execution_count": 6,
      "metadata": {},
      "outputs": [
        {
          "name": "stdout",
          "output_type": "stream",
          "text": [
            "\n",
            "Feature Engineering Statistics:\n",
            "\n",
            "Mathematics Dataset Statistics:\n",
            "Grade Average (Gvg):\n",
            "  Mean: 10.58\n",
            "  Std: 3.43\n",
            "\n",
            "Alcohol Average (Avgalc):\n",
            "  Mean: 1.71\n",
            "  Std: 0.96\n",
            "\n",
            "Risk Factor (Bum):\n",
            "  Mean: 19.13\n",
            "  Std: 12.75\n",
            "\n",
            "Portuguese Dataset Statistics:\n",
            "Grade Average (Gvg):\n",
            "  Mean: 11.21\n",
            "  Std: 2.74\n",
            "\n",
            "Alcohol Average (Avgalc):\n",
            "  Mean: 1.71\n",
            "  Std: 0.97\n",
            "\n",
            "Risk Factor (Bum):\n",
            "  Mean: 15.93\n",
            "  Std: 8.07\n",
            "\n",
            "Combined Dataset Statistics:\n",
            "Grade Average (Gvg): Not available for this dataset\n",
            "\n",
            "Alcohol Average (Avgalc):\n",
            "  Mean: 1.71\n",
            "  Std: 0.97\n",
            "\n",
            "Risk Factor (Bum):\n",
            "  Mean: 15.93\n",
            "  Std: 8.07\n"
          ]
        }
      ],
      "source": [
        "# Print statistics for new features\n",
        "print(\"\\nFeature Engineering Statistics:\")\n",
        "for name, df in [(\"Mathematics\", mat_df), (\"Portuguese\", por_df), (\"Combined\", csv_df)]:\n",
        "    print(f\"\\n{name} Dataset Statistics:\")\n",
        "    \n",
        "    # Only print Gvg statistics if the column exists\n",
        "    if 'Gvg' in df.columns:\n",
        "        print(f\"Grade Average (Gvg):\")\n",
        "        print(f\"  Mean: {df['Gvg'].mean():.2f}\")\n",
        "        print(f\"  Std: {df['Gvg'].std():.2f}\")\n",
        "    else:\n",
        "        print(\"Grade Average (Gvg): Not available for this dataset\")\n",
        "    \n",
        "    print(f\"\\nAlcohol Average (Avgalc):\")\n",
        "    print(f\"  Mean: {df['Avgalc'].mean():.2f}\")\n",
        "    print(f\"  Std: {df['Avgalc'].std():.2f}\")\n",
        "    \n",
        "    print(f\"\\nRisk Factor (Bum):\")\n",
        "    print(f\"  Mean: {df['Bum'].mean():.2f}\")\n",
        "    print(f\"  Std: {df['Bum'].std():.2f}\")"
      ]
    }
  ],
  "metadata": {
    "kernelspec": {
      "display_name": "Python 3",
      "language": "python",
      "name": "python3"
    },
    "language_info": {
      "codemirror_mode": {
        "name": "ipython",
        "version": 3
      },
      "file_extension": ".py",
      "mimetype": "text/x-python",
      "name": "python",
      "nbconvert_exporter": "python",
      "pygments_lexer": "ipython3",
      "version": "3.12.1"
    }
  },
  "nbformat": 4,
  "nbformat_minor": 2
}
